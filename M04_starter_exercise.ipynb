{
 "cells": [
  {
   "cell_type": "markdown",
   "id": "e3778898",
   "metadata": {},
   "source": [
    "# [STARTER] Exercise - Building an Agent with Short-Term Memory\n",
    "\n",
    "In this exercise, you’ll extend your agent to support short-term memory across sessions. While state is used to manage the agent’s progress within a single run, memory allows your agent to remember what happened in previous runs, enabling context continuity across multiple user interactions.\n",
    "\n",
    "You’ll learn how to use a memory object to store and retrieve conversation history, tool usage, and other relevant information, grouped by session. This is a key step toward building agents that can hold a conversation or remember facts within a session."
   ]
  },
  {
   "cell_type": "markdown",
   "id": "12e57bd8",
   "metadata": {},
   "source": [
    "## Challenge\n",
    "\n",
    "- Understand the difference between state and memory:\n",
    "    - State is local to a single run and is lost when the run ends.\n",
    "    - Memory persists across runs and sessions, allowing the agent to remember what happened before.\n",
    "- Use the provided ShortTermMemory class to manage session memory.\n",
    "- Implement an Agent class that:\n",
    "    - Accepts a session_id for each interaction.\n",
    "    - Stores each state in memory under the correct session.\n",
    "    - Retrieves and uses session history to provide context for new queries.\n",
    "- Demonstrate how the agent can continue a conversation across multiple invocations.\n"
   ]
  },
  {
   "cell_type": "markdown",
   "id": "9fa44fc7",
   "metadata": {},
   "source": [
    "## Setup\n",
    "First, let's import the necessary libraries:"
   ]
  },
  {
   "cell_type": "code",
   "execution_count": null,
   "id": "08286c75",
   "metadata": {},
   "outputs": [],
   "source": [
    "from typing import TypedDict, List, Optional, Union\n",
    "import json\n",
    "from dotenv import load_dotenv\n",
    "\n",
    "from lib.state_machine import StateMachine, Step, EntryPoint, Termination, Run\n",
    "from lib.llm import LLM\n",
    "from lib.messages import AIMessage, UserMessage, SystemMessage, ToolMessage, BaseMessage\n",
    "from lib.tooling import Tool, ToolCall, tool\n",
    "from lib.memory import ShortTermMemory"
   ]
  },
  {
   "cell_type": "code",
   "execution_count": null,
   "id": "4002bf4c",
   "metadata": {},
   "outputs": [],
   "source": [
    "load_dotenv()"
   ]
  },
  {
   "cell_type": "markdown",
   "id": "2371134f",
   "metadata": {},
   "source": [
    "## Define a State Schema\n",
    "\n",
    "Create a TypedDict to represent the agent’s state, including fields for the user query, instructions, message history, any pending tool calls and the session_id."
   ]
  },
  {
   "cell_type": "code",
   "execution_count": null,
   "id": "d3ba21e0",
   "metadata": {},
   "outputs": [],
   "source": [
    "class AgentState(TypedDict):\n",
    "    user_query: str  # The current user query being processed\n",
    "    instructions: str  # System instructions for the agent\n",
    "    messages: List[dict]  # List of conversation messages\n",
    "    current_tool_calls: Optional[List[ToolCall]]  # Current pending tool calls\n",
    "    session_id: str  # Session identifier for memory management\n"
   ]
  },
  {
   "cell_type": "markdown",
   "id": "ebd4dc40",
   "metadata": {},
   "source": [
    "## Create your Agent with Memory"
   ]
  },
  {
   "cell_type": "code",
   "execution_count": null,
   "id": "9aef3110",
   "metadata": {},
   "outputs": [],
   "source": [
    "class MemoryAgent:\n",
    "    def __init__(self, \n",
    "                 model_name: str,\n",
    "                 instructions: str, \n",
    "                 tools: List[Tool] = None,\n",
    "                 temperature: float = 0.7):\n",
    "        \"\"\"\n",
    "        Initialize a MemoryAgent instance\n",
    "        \n",
    "        Args:\n",
    "            model_name: Name/identifier of the LLM model to use\n",
    "            instructions: System instructions for the agent\n",
    "            tools: Optional list of tools available to the agent\n",
    "            temperature: Temperature parameter for LLM (default: 0.7)\n",
    "        \"\"\"\n",
    "        self.instructions = instructions\n",
    "        self.tools = tools if tools else []\n",
    "        self.model_name = model_name\n",
    "        self.temperature = temperature\n",
    "        \n",
    "        # TODO: Initialize memory and state machine\n",
    "        self.memory = \n",
    "        self.workflow = self._create_state_machine()\n",
    "\n",
    "    def _prepare_messages_step(self, state: AgentState) -> AgentState:\n",
    "        \"\"\"Step logic: Prepare messages for LLM consumption\"\"\"\n",
    "        messages = state.get(\"messages\", [])\n",
    "        \n",
    "        # If no messages exist, start with system message\n",
    "        if not messages:\n",
    "            messages = [SystemMessage(content=state[\"instructions\"])]\n",
    "            \n",
    "        # Add the new user message\n",
    "        messages.append(UserMessage(content=state[\"user_query\"]))\n",
    "        \n",
    "        return {\n",
    "            \"messages\": messages,\n",
    "            \"session_id\": state[\"session_id\"]\n",
    "        }\n",
    "\n",
    "    def _llm_step(self, state: AgentState) -> AgentState:\n",
    "        \"\"\"Step logic: Process the current state through the LLM\"\"\"\n",
    "        # Initialize LLM\n",
    "        llm = LLM(\n",
    "            model=self.model_name,\n",
    "            temperature=self.temperature,\n",
    "            tools=self.tools\n",
    "        )\n",
    "\n",
    "        response = llm.invoke(state[\"messages\"])\n",
    "        tool_calls = response.tool_calls if response.tool_calls else None\n",
    "\n",
    "        # Create AI message with content and tool calls\n",
    "        ai_message = AIMessage(content=response.content, tool_calls=tool_calls)\n",
    "        \n",
    "        return {\n",
    "            \"messages\": state[\"messages\"] + [ai_message],\n",
    "            \"current_tool_calls\": tool_calls,\n",
    "            \"session_id\": state[\"session_id\"]\n",
    "        }\n",
    "\n",
    "    def _tool_step(self, state: AgentState) -> AgentState:\n",
    "        \"\"\"Step logic: Execute any pending tool calls\"\"\"\n",
    "        tool_calls = state[\"current_tool_calls\"] or []\n",
    "        tool_messages = []\n",
    "        \n",
    "        for call in tool_calls:\n",
    "            # Access tool call data correctly\n",
    "            function_name = call.function.name\n",
    "            function_args = json.loads(call.function.arguments)\n",
    "            tool_call_id = call.id\n",
    "            # Find the matching tool\n",
    "            tool = next((t for t in self.tools if t.name == function_name), None)\n",
    "            if tool:\n",
    "                result = tool(**function_args)\n",
    "                tool_message = ToolMessage(\n",
    "                    content=json.dumps(result), \n",
    "                    tool_call_id=tool_call_id, \n",
    "                    name=function_name, \n",
    "                )\n",
    "                tool_messages.append(tool_message)\n",
    "        \n",
    "        # Clear tool calls and add results to messages\n",
    "        return {\n",
    "            \"messages\": state[\"messages\"] + tool_messages,\n",
    "            \"current_tool_calls\": None,\n",
    "            \"session_id\": state[\"session_id\"]\n",
    "        }\n",
    "\n",
    "    def _create_state_machine(self) -> StateMachine[AgentState]:\n",
    "        \"\"\"Create the internal state machine for the agent\"\"\"\n",
    "        machine = StateMachine[AgentState](AgentState)\n",
    "        \n",
    "        # Create steps\n",
    "        entry = EntryPoint[AgentState]()\n",
    "        message_prep = Step[AgentState](\"message_prep\", self._prepare_messages_step)\n",
    "        llm_processor = Step[AgentState](\"llm_processor\", self._llm_step)\n",
    "        tool_executor = Step[AgentState](\"tool_executor\", self._tool_step)\n",
    "        termination = Termination[AgentState]()\n",
    "        \n",
    "        machine.add_steps([entry, message_prep, llm_processor, tool_executor, termination])\n",
    "        \n",
    "        # Add transitions\n",
    "        machine.connect(entry, message_prep)\n",
    "        machine.connect(message_prep, llm_processor)\n",
    "        \n",
    "        # Transition based on whether there are tool calls\n",
    "        def check_tool_calls(state: AgentState) -> Union[Step[AgentState], str]:\n",
    "            \"\"\"Transition logic: Check if there are tool calls\"\"\"\n",
    "            if state.get(\"current_tool_calls\"):\n",
    "                return tool_executor\n",
    "            return termination\n",
    "        \n",
    "        machine.connect(llm_processor, [tool_executor, termination], check_tool_calls)\n",
    "        machine.connect(tool_executor, llm_processor)  # Go back to llm after tool execution\n",
    "        \n",
    "        return machine\n",
    "\n",
    "    def invoke(self, query: str, session_id: Optional[str] = None) -> Run:\n",
    "        \"\"\"\n",
    "        Run the agent on a query\n",
    "        \n",
    "        Args:\n",
    "            query: The user's query to process\n",
    "            session_id: Optional session identifier (uses \"default\" if None)\n",
    "            \n",
    "        Returns:\n",
    "            The final run object after processing\n",
    "        \"\"\"\n",
    "        session_id = session_id or \"default\"\n",
    "\n",
    "        # TODO: Create session if it doesn't exist\n",
    "        # self.memory.\n",
    "\n",
    "        # Get previous messages from last run if available\n",
    "        previous_messages = []\n",
    "        last_run: Run = self.memory.get_last_object(session_id)\n",
    "        if last_run:\n",
    "            last_state = last_run.get_final_state()\n",
    "            if last_state:\n",
    "                previous_messages = last_state[\"messages\"]\n",
    "\n",
    "        initial_state: AgentState = {\n",
    "            \"user_query\": query,\n",
    "            \"instructions\": self.instructions,\n",
    "            \"messages\": previous_messages,\n",
    "            \"current_tool_calls\": None,\n",
    "            \"session_id\": session_id,\n",
    "        }\n",
    "\n",
    "        run_object = self.workflow.run(initial_state)\n",
    "        \n",
    "        # TODO: Store the complete run object in memory\n",
    "        # self.memory\n",
    "        \n",
    "        return run_object\n",
    "\n",
    "    def get_session_runs(self, session_id: Optional[str] = None) -> List[Run]:\n",
    "        \"\"\"Get all Run objects for a session\n",
    "        \n",
    "        Args:\n",
    "            session_id: Optional session ID (uses \"default\" if None)\n",
    "            \n",
    "        Returns:\n",
    "            List of Run objects in the session\n",
    "        \"\"\"\n",
    "        # TODO: Return all objects from memory given a session_id\n",
    "        # return \n",
    "\n",
    "    def reset_session(self, session_id: Optional[str] = None):\n",
    "        \"\"\"Reset memory for a specific session\n",
    "        \n",
    "        Args:\n",
    "            session_id: Optional session to reset (uses \"default\" if None)\n",
    "        \"\"\"\n",
    "        # TODO: Reset memory given a session_id\n",
    "        # self.memory"
   ]
  },
  {
   "cell_type": "markdown",
   "id": "d2cfcce5",
   "metadata": {},
   "source": [
    "## Define your tools and instantiate your Agent"
   ]
  },
  {
   "cell_type": "code",
   "execution_count": null,
   "id": "7657a6f2",
   "metadata": {},
   "outputs": [],
   "source": [
    "@tool\n",
    "def get_games(num_games:int=1, top:bool=True) -> str:\n",
    "    \"\"\"\n",
    "    Returns the top or bottom N games with highest or lowest scores.    \n",
    "    args:\n",
    "        num_games (int): Number of games to return (default is 1)\n",
    "        top (bool): If True, return top games, otherwise return bottom (default is True)\n",
    "    \"\"\"\n",
    "    data = [\n",
    "        {\"Game\": \"The Legend of Zelda: Breath of the Wild\", \"Platform\": \"Switch\", \"Score\": 98},\n",
    "        {\"Game\": \"Super Mario Odyssey\", \"Platform\": \"Switch\", \"Score\": 97},\n",
    "        {\"Game\": \"Metroid Prime\", \"Platform\": \"GameCube\", \"Score\": 97},\n",
    "        {\"Game\": \"Super Smash Bros. Brawl\", \"Platform\": \"Wii\", \"Score\": 93},\n",
    "        {\"Game\": \"Mario Kart 8 Deluxe\", \"Platform\": \"Switch\", \"Score\": 92},\n",
    "        {\"Game\": \"Fire Emblem: Awakening\", \"Platform\": \"3DS\", \"Score\": 92},\n",
    "        {\"Game\": \"Donkey Kong Country Returns\", \"Platform\": \"Wii\", \"Score\": 87},\n",
    "        {\"Game\": \"Luigi's Mansion 3\", \"Platform\": \"Switch\", \"Score\": 86},\n",
    "        {\"Game\": \"Pikmin 3\", \"Platform\": \"Wii U\", \"Score\": 85},\n",
    "        {\"Game\": \"Animal Crossing: New Leaf\", \"Platform\": \"3DS\", \"Score\": 88}\n",
    "    ]\n",
    "    # Sort the games list by Score\n",
    "    # If top is True, descending order\n",
    "    sorted_games = sorted(data, key=lambda x: x['Score'], reverse=top)\n",
    "    \n",
    "    # Return the N games\n",
    "    return sorted_games[:num_games]"
   ]
  },
  {
   "cell_type": "code",
   "execution_count": null,
   "id": "9f67b873",
   "metadata": {},
   "outputs": [],
   "source": [
    "tools = [get_games]"
   ]
  },
  {
   "cell_type": "code",
   "execution_count": null,
   "id": "c7ff665d",
   "metadata": {},
   "outputs": [],
   "source": [
    "agent = MemoryAgent(\n",
    "    model_name=\"gpt-4o-mini\",\n",
    "    instructions=\"You can bring insights about a game dataset based on users questions\",\n",
    "    tools=tools\n",
    ")"
   ]
  },
  {
   "cell_type": "code",
   "execution_count": null,
   "id": "c74d8aef",
   "metadata": {},
   "outputs": [],
   "source": [
    "def print_messages(messages: List[BaseMessage]):\n",
    "    for m in messages:\n",
    "        print(f\" -> (role = {m.role}, content = {m.content}, tool_calls = {getattr(m, 'tool_calls', None)})\")"
   ]
  },
  {
   "cell_type": "markdown",
   "id": "bf6168f5",
   "metadata": {},
   "source": [
    "## Run your Agent"
   ]
  },
  {
   "cell_type": "code",
   "execution_count": null,
   "id": "89c9238c",
   "metadata": {},
   "outputs": [],
   "source": [
    "# TODO: Invoke the agent using session_id \"games\" and display the messages\n",
    "# Suggested question: What's the best game in the dataset?\n",
    "print(\"First interaction:\")\n",
    "run1 = "
   ]
  },
  {
   "cell_type": "code",
   "execution_count": null,
   "id": "65e6b006",
   "metadata": {},
   "outputs": [],
   "source": [
    "# TODO: Invoke the agent again using session_id \"games\" and display the messages\n",
    "# Suggested question: And what was its score?\n",
    "\n",
    "print(\"\\nSecond interaction (same session):\")\n",
    "run2 = "
   ]
  },
  {
   "cell_type": "code",
   "execution_count": null,
   "id": "66335d57",
   "metadata": {},
   "outputs": [],
   "source": [
    "# TODO: Invoke the agent again, but this time using session_id \"other_session\" and display the messages\n",
    "# Suggested question: And what was its score?\n",
    "\n",
    "print(\"\\nNew session interaction:\")\n",
    "run3 = \n"
   ]
  },
  {
   "cell_type": "markdown",
   "id": "f160949c",
   "metadata": {},
   "source": [
    "## Check session histories"
   ]
  },
  {
   "cell_type": "code",
   "execution_count": null,
   "id": "f6fdabe5",
   "metadata": {},
   "outputs": [],
   "source": [
    "print(\"Games session runs:\")\n",
    "runs = agent.get_session_runs(\"games\")\n",
    "for i, run_object in enumerate(runs, 1):\n",
    "    print(f\"\\n# Run {i}\", run_object.metadata)\n",
    "    print(\"Messages:\")\n",
    "    print_messages(run_object.get_final_state()[\"messages\"])"
   ]
  },
  {
   "cell_type": "code",
   "execution_count": null,
   "id": "98dafe45",
   "metadata": {},
   "outputs": [],
   "source": [
    "print(\"Games session snapshots:\\n\")\n",
    "\n",
    "runs = agent.get_session_runs(\"games\")\n",
    "for run_object in runs:\n",
    "    print(run_object)\n",
    "    for snp in run_object.snapshots:\n",
    "        print(f\"-> {snp}\")\n",
    "    print(\"\\n\")"
   ]
  },
  {
   "cell_type": "code",
   "execution_count": null,
   "id": "59054976",
   "metadata": {},
   "outputs": [],
   "source": []
  }
 ],
 "metadata": {
  "kernelspec": {
   "display_name": ".venv",
   "language": "python",
   "name": "python3"
  },
  "language_info": {
   "codemirror_mode": {
    "name": "ipython",
    "version": 3
   },
   "file_extension": ".py",
   "mimetype": "text/x-python",
   "name": "python",
   "nbconvert_exporter": "python",
   "pygments_lexer": "ipython3",
   "version": "3.11.10"
  }
 },
 "nbformat": 4,
 "nbformat_minor": 5
}
