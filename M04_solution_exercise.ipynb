{
 "cells": [
  {
   "cell_type": "markdown",
   "id": "e3778898",
   "metadata": {},
   "source": [
    "# [SOLUTION] Exercise - Building an Agent with Short-Term Memory\n",
    "\n",
    "In this exercise, you’ll extend your agent to support short-term memory across sessions. While state is used to manage the agent’s progress within a single run, memory allows your agent to remember what happened in previous runs, enabling context continuity across multiple user interactions.\n",
    "\n",
    "You’ll learn how to use a memory object to store and retrieve conversation history, tool usage, and other relevant information, grouped by session. This is a key step toward building agents that can hold a conversation or remember facts within a session."
   ]
  },
  {
   "cell_type": "markdown",
   "id": "12e57bd8",
   "metadata": {},
   "source": [
    "## Challenge\n",
    "\n",
    "- Understand the difference between state and memory:\n",
    "    - State is local to a single run and is lost when the run ends.\n",
    "    - Memory persists across runs and sessions, allowing the agent to remember what happened before.\n",
    "- Use the provided ShortTermMemory class to manage session memory.\n",
    "- Implement an Agent class that:\n",
    "    - Accepts a session_id for each interaction.\n",
    "    - Stores each state in memory under the correct session.\n",
    "    - Retrieves and uses session history to provide context for new queries.\n",
    "- Demonstrate how the agent can continue a conversation across multiple invocations.\n"
   ]
  },
  {
   "cell_type": "markdown",
   "id": "9fa44fc7",
   "metadata": {},
   "source": [
    "## Setup\n",
    "First, let's import the necessary libraries:"
   ]
  },
  {
   "cell_type": "code",
   "execution_count": 1,
   "id": "08286c75",
   "metadata": {},
   "outputs": [],
   "source": [
    "from typing import TypedDict, List, Optional, Union\n",
    "import json\n",
    "from dotenv import load_dotenv\n",
    "\n",
    "from lib.state_machine import StateMachine, Step, EntryPoint, Termination, Run\n",
    "from lib.llm import LLM\n",
    "from lib.messages import AIMessage, UserMessage, SystemMessage, ToolMessage, BaseMessage\n",
    "from lib.tooling import Tool, ToolCall, tool\n",
    "from lib.memory import ShortTermMemory"
   ]
  },
  {
   "cell_type": "code",
   "execution_count": 2,
   "id": "4002bf4c",
   "metadata": {},
   "outputs": [
    {
     "data": {
      "text/plain": [
       "True"
      ]
     },
     "execution_count": 2,
     "metadata": {},
     "output_type": "execute_result"
    }
   ],
   "source": [
    "load_dotenv()"
   ]
  },
  {
   "cell_type": "markdown",
   "id": "2371134f",
   "metadata": {},
   "source": [
    "## Define a State Schema\n",
    "\n",
    "Create a TypedDict to represent the agent’s state, including fields for the user query, instructions, message history, any pending tool calls and the session_id."
   ]
  },
  {
   "cell_type": "code",
   "execution_count": 3,
   "id": "d3ba21e0",
   "metadata": {},
   "outputs": [],
   "source": [
    "class AgentState(TypedDict):\n",
    "    user_query: str  # The current user query being processed\n",
    "    instructions: str  # System instructions for the agent\n",
    "    messages: List[dict]  # List of conversation messages\n",
    "    current_tool_calls: Optional[List[ToolCall]]  # Current pending tool calls\n",
    "    session_id: str  # Session identifier for memory management\n"
   ]
  },
  {
   "cell_type": "markdown",
   "id": "ebd4dc40",
   "metadata": {},
   "source": [
    "## Create your Agent with Memory"
   ]
  },
  {
   "cell_type": "code",
   "execution_count": 4,
   "id": "9aef3110",
   "metadata": {},
   "outputs": [],
   "source": [
    "class MemoryAgent:\n",
    "    def __init__(self, \n",
    "                 model_name: str,\n",
    "                 instructions: str, \n",
    "                 tools: List[Tool] = None,\n",
    "                 temperature: float = 0.7):\n",
    "        \"\"\"\n",
    "        Initialize a MemoryAgent instance\n",
    "        \n",
    "        Args:\n",
    "            model_name: Name/identifier of the LLM model to use\n",
    "            instructions: System instructions for the agent\n",
    "            tools: Optional list of tools available to the agent\n",
    "            temperature: Temperature parameter for LLM (default: 0.7)\n",
    "        \"\"\"\n",
    "        self.instructions = instructions\n",
    "        self.tools = tools if tools else []\n",
    "        self.model_name = model_name\n",
    "        self.temperature = temperature\n",
    "        \n",
    "        # Initialize memory and state machine\n",
    "        self.memory = ShortTermMemory()\n",
    "        self.workflow = self._create_state_machine()\n",
    "\n",
    "    def _prepare_messages_step(self, state: AgentState) -> AgentState:\n",
    "        \"\"\"Step logic: Prepare messages for LLM consumption\"\"\"\n",
    "        messages = state.get(\"messages\", [])\n",
    "        \n",
    "        # If no messages exist, start with system message\n",
    "        if not messages:\n",
    "            messages = [SystemMessage(content=state[\"instructions\"])]\n",
    "            \n",
    "        # Add the new user message\n",
    "        messages.append(UserMessage(content=state[\"user_query\"]))\n",
    "        \n",
    "        return {\n",
    "            \"messages\": messages,\n",
    "            \"session_id\": state[\"session_id\"]\n",
    "        }\n",
    "\n",
    "    def _llm_step(self, state: AgentState) -> AgentState:\n",
    "        \"\"\"Step logic: Process the current state through the LLM\"\"\"\n",
    "        # Initialize LLM\n",
    "        llm = LLM(\n",
    "            model=self.model_name,\n",
    "            temperature=self.temperature,\n",
    "            tools=self.tools\n",
    "        )\n",
    "\n",
    "        response = llm.invoke(state[\"messages\"])\n",
    "        tool_calls = response.tool_calls if response.tool_calls else None\n",
    "\n",
    "        # Create AI message with content and tool calls\n",
    "        ai_message = AIMessage(content=response.content, tool_calls=tool_calls)\n",
    "        \n",
    "        return {\n",
    "            \"messages\": state[\"messages\"] + [ai_message],\n",
    "            \"current_tool_calls\": tool_calls,\n",
    "            \"session_id\": state[\"session_id\"]\n",
    "        }\n",
    "\n",
    "    def _tool_step(self, state: AgentState) -> AgentState:\n",
    "        \"\"\"Step logic: Execute any pending tool calls\"\"\"\n",
    "        tool_calls = state[\"current_tool_calls\"] or []\n",
    "        tool_messages = []\n",
    "        \n",
    "        for call in tool_calls:\n",
    "            # Access tool call data correctly\n",
    "            function_name = call.function.name\n",
    "            function_args = json.loads(call.function.arguments)\n",
    "            tool_call_id = call.id\n",
    "            # Find the matching tool\n",
    "            tool = next((t for t in self.tools if t.name == function_name), None)\n",
    "            if tool:\n",
    "                result = tool(**function_args)\n",
    "                tool_message = ToolMessage(\n",
    "                    content=json.dumps(result), \n",
    "                    tool_call_id=tool_call_id, \n",
    "                    name=function_name, \n",
    "                )\n",
    "                tool_messages.append(tool_message)\n",
    "        \n",
    "        # Clear tool calls and add results to messages\n",
    "        return {\n",
    "            \"messages\": state[\"messages\"] + tool_messages,\n",
    "            \"current_tool_calls\": None,\n",
    "            \"session_id\": state[\"session_id\"]\n",
    "        }\n",
    "\n",
    "    def _create_state_machine(self) -> StateMachine[AgentState]:\n",
    "        \"\"\"Create the internal state machine for the agent\"\"\"\n",
    "        machine = StateMachine[AgentState](AgentState)\n",
    "        \n",
    "        # Create steps\n",
    "        entry = EntryPoint[AgentState]()\n",
    "        message_prep = Step[AgentState](\"message_prep\", self._prepare_messages_step)\n",
    "        llm_processor = Step[AgentState](\"llm_processor\", self._llm_step)\n",
    "        tool_executor = Step[AgentState](\"tool_executor\", self._tool_step)\n",
    "        termination = Termination[AgentState]()\n",
    "        \n",
    "        machine.add_steps([entry, message_prep, llm_processor, tool_executor, termination])\n",
    "        \n",
    "        # Add transitions\n",
    "        machine.connect(entry, message_prep)\n",
    "        machine.connect(message_prep, llm_processor)\n",
    "        \n",
    "        # Transition based on whether there are tool calls\n",
    "        def check_tool_calls(state: AgentState) -> Union[Step[AgentState], str]:\n",
    "            \"\"\"Transition logic: Check if there are tool calls\"\"\"\n",
    "            if state.get(\"current_tool_calls\"):\n",
    "                return tool_executor\n",
    "            return termination\n",
    "        \n",
    "        machine.connect(llm_processor, [tool_executor, termination], check_tool_calls)\n",
    "        machine.connect(tool_executor, llm_processor)  # Go back to llm after tool execution\n",
    "        \n",
    "        return machine\n",
    "\n",
    "    def invoke(self, query: str, session_id: Optional[str] = None) -> Run:\n",
    "        \"\"\"\n",
    "        Run the agent on a query\n",
    "        \n",
    "        Args:\n",
    "            query: The user's query to process\n",
    "            session_id: Optional session identifier (uses \"default\" if None)\n",
    "            \n",
    "        Returns:\n",
    "            The final run object after processing\n",
    "        \"\"\"\n",
    "        session_id = session_id or \"default\"\n",
    "\n",
    "        # Create session if it doesn't exist\n",
    "        self.memory.create_session(session_id)\n",
    "\n",
    "        # Get previous messages from last run if available\n",
    "        previous_messages = []\n",
    "        last_run: Run = self.memory.get_last_object(session_id)\n",
    "        if last_run:\n",
    "            last_state = last_run.get_final_state()\n",
    "            if last_state:\n",
    "                previous_messages = last_state[\"messages\"]\n",
    "\n",
    "        initial_state: AgentState = {\n",
    "            \"user_query\": query,\n",
    "            \"instructions\": self.instructions,\n",
    "            \"messages\": previous_messages,\n",
    "            \"current_tool_calls\": None,\n",
    "            \"session_id\": session_id,\n",
    "        }\n",
    "\n",
    "        run_object = self.workflow.run(initial_state)\n",
    "        \n",
    "        # Store the complete run object in memory\n",
    "        self.memory.add(run_object, session_id)\n",
    "        \n",
    "        return run_object\n",
    "\n",
    "    def get_session_runs(self, session_id: Optional[str] = None) -> List[Run]:\n",
    "        \"\"\"Get all Run objects for a session\n",
    "        \n",
    "        Args:\n",
    "            session_id: Optional session ID (uses \"default\" if None)\n",
    "            \n",
    "        Returns:\n",
    "            List of Run objects in the session\n",
    "        \"\"\"\n",
    "        return self.memory.get_all_objects(session_id)\n",
    "\n",
    "    def reset_session(self, session_id: Optional[str] = None):\n",
    "        \"\"\"Reset memory for a specific session\n",
    "        \n",
    "        Args:\n",
    "            session_id: Optional session to reset (uses \"default\" if None)\n",
    "        \"\"\"\n",
    "        self.memory.reset(session_id)"
   ]
  },
  {
   "cell_type": "markdown",
   "id": "d2cfcce5",
   "metadata": {},
   "source": [
    "## Define your tools and instantiate your Agent"
   ]
  },
  {
   "cell_type": "code",
   "execution_count": 5,
   "id": "7657a6f2",
   "metadata": {},
   "outputs": [],
   "source": [
    "@tool\n",
    "def get_games(num_games:int=1, top:bool=True) -> str:\n",
    "    \"\"\"\n",
    "    Returns the top or bottom N games with highest or lowest scores.    \n",
    "    args:\n",
    "        num_games (int): Number of games to return (default is 1)\n",
    "        top (bool): If True, return top games, otherwise return bottom (default is True)\n",
    "    \"\"\"\n",
    "    data = [\n",
    "        {\"Game\": \"The Legend of Zelda: Breath of the Wild\", \"Platform\": \"Switch\", \"Score\": 98},\n",
    "        {\"Game\": \"Super Mario Odyssey\", \"Platform\": \"Switch\", \"Score\": 97},\n",
    "        {\"Game\": \"Metroid Prime\", \"Platform\": \"GameCube\", \"Score\": 97},\n",
    "        {\"Game\": \"Super Smash Bros. Brawl\", \"Platform\": \"Wii\", \"Score\": 93},\n",
    "        {\"Game\": \"Mario Kart 8 Deluxe\", \"Platform\": \"Switch\", \"Score\": 92},\n",
    "        {\"Game\": \"Fire Emblem: Awakening\", \"Platform\": \"3DS\", \"Score\": 92},\n",
    "        {\"Game\": \"Donkey Kong Country Returns\", \"Platform\": \"Wii\", \"Score\": 87},\n",
    "        {\"Game\": \"Luigi's Mansion 3\", \"Platform\": \"Switch\", \"Score\": 86},\n",
    "        {\"Game\": \"Pikmin 3\", \"Platform\": \"Wii U\", \"Score\": 85},\n",
    "        {\"Game\": \"Animal Crossing: New Leaf\", \"Platform\": \"3DS\", \"Score\": 88}\n",
    "    ]\n",
    "    # Sort the games list by Score\n",
    "    # If top is True, descending order\n",
    "    sorted_games = sorted(data, key=lambda x: x['Score'], reverse=top)\n",
    "    \n",
    "    # Return the N games\n",
    "    return sorted_games[:num_games]"
   ]
  },
  {
   "cell_type": "code",
   "execution_count": 6,
   "id": "9f67b873",
   "metadata": {},
   "outputs": [],
   "source": [
    "tools = [get_games]"
   ]
  },
  {
   "cell_type": "code",
   "execution_count": 7,
   "id": "c7ff665d",
   "metadata": {},
   "outputs": [],
   "source": [
    "agent = MemoryAgent(\n",
    "    model_name=\"gpt-4o-mini\",\n",
    "    instructions=\"You can bring insights about a game dataset based on users questions\",\n",
    "    tools=tools\n",
    ")"
   ]
  },
  {
   "cell_type": "code",
   "execution_count": 8,
   "id": "c74d8aef",
   "metadata": {},
   "outputs": [],
   "source": [
    "def print_messages(messages: List[BaseMessage]):\n",
    "    for m in messages:\n",
    "        print(f\" -> (role = {m.role}, content = {m.content}, tool_calls = {getattr(m, 'tool_calls', None)})\")"
   ]
  },
  {
   "cell_type": "markdown",
   "id": "bf6168f5",
   "metadata": {},
   "source": [
    "## Run your Agent"
   ]
  },
  {
   "cell_type": "code",
   "execution_count": 9,
   "id": "89c9238c",
   "metadata": {},
   "outputs": [
    {
     "name": "stdout",
     "output_type": "stream",
     "text": [
      "First interaction:\n",
      "[StateMachine] Starting: __entry__\n",
      "[StateMachine] Executing step: message_prep\n",
      "[StateMachine] Executing step: llm_processor\n",
      "[StateMachine] Executing step: tool_executor\n",
      "[StateMachine] Executing step: llm_processor\n",
      "[StateMachine] Terminating: __termination__\n",
      "\n",
      "Messages from run 1:\n",
      " -> (role = system, content = You can bring insights about a game dataset based on users questions, tool_calls = None)\n",
      " -> (role = user, content = What's the best game in the dataset?, tool_calls = None)\n",
      " -> (role = assistant, content = None, tool_calls = [ChatCompletionMessageToolCall(id='call_SLomFYOi1ZA5YFwoO0zPBCoQ', function=Function(arguments='{\"num_games\":1,\"top\":true}', name='get_games'), type='function')])\n",
      " -> (role = tool, content = [{\"Game\": \"The Legend of Zelda: Breath of the Wild\", \"Platform\": \"Switch\", \"Score\": 98}], tool_calls = None)\n",
      " -> (role = assistant, content = The best game in the dataset is **The Legend of Zelda: Breath of the Wild**, available on the Switch, with a score of **98**., tool_calls = None)\n"
     ]
    }
   ],
   "source": [
    "# First interaction in session \"games\"\n",
    "print(\"First interaction:\")\n",
    "run1 = agent.invoke(\"What's the best game in the dataset?\", \"games\")\n",
    "\n",
    "print(\"\\nMessages from run 1:\")\n",
    "messages = run1.get_final_state()[\"messages\"]\n",
    "print_messages(messages)"
   ]
  },
  {
   "cell_type": "code",
   "execution_count": 10,
   "id": "65e6b006",
   "metadata": {},
   "outputs": [
    {
     "name": "stdout",
     "output_type": "stream",
     "text": [
      "\n",
      "Second interaction (same session):\n",
      "[StateMachine] Starting: __entry__\n",
      "[StateMachine] Executing step: message_prep\n",
      "[StateMachine] Executing step: llm_processor\n",
      "[StateMachine] Terminating: __termination__\n",
      "\n",
      "Messages from run 2:\n",
      " -> (role = system, content = You can bring insights about a game dataset based on users questions, tool_calls = None)\n",
      " -> (role = user, content = What's the best game in the dataset?, tool_calls = None)\n",
      " -> (role = assistant, content = None, tool_calls = [ChatCompletionMessageToolCall(id='call_SLomFYOi1ZA5YFwoO0zPBCoQ', function=Function(arguments='{\"num_games\":1,\"top\":true}', name='get_games'), type='function')])\n",
      " -> (role = tool, content = [{\"Game\": \"The Legend of Zelda: Breath of the Wild\", \"Platform\": \"Switch\", \"Score\": 98}], tool_calls = None)\n",
      " -> (role = assistant, content = The best game in the dataset is **The Legend of Zelda: Breath of the Wild**, available on the Switch, with a score of **98**., tool_calls = None)\n",
      " -> (role = user, content = And what was its score?, tool_calls = None)\n",
      " -> (role = assistant, content = The score of **The Legend of Zelda: Breath of the Wild** is **98**., tool_calls = None)\n"
     ]
    }
   ],
   "source": [
    "# Second interaction in same session\n",
    "print(\"\\nSecond interaction (same session):\")\n",
    "run2 = agent.invoke(\"And what was its score?\", \"games\")\n",
    "\n",
    "print(\"\\nMessages from run 2:\")\n",
    "messages = run2.get_final_state()[\"messages\"]\n",
    "print_messages(messages)"
   ]
  },
  {
   "cell_type": "code",
   "execution_count": 11,
   "id": "66335d57",
   "metadata": {},
   "outputs": [
    {
     "name": "stdout",
     "output_type": "stream",
     "text": [
      "\n",
      "New session interaction:\n",
      "[StateMachine] Starting: __entry__\n",
      "[StateMachine] Executing step: message_prep\n",
      "[StateMachine] Executing step: llm_processor\n",
      "[StateMachine] Executing step: tool_executor\n",
      "[StateMachine] Executing step: llm_processor\n",
      "[StateMachine] Terminating: __termination__\n",
      "\n",
      "Messages from run 3:\n",
      " -> (role = system, content = You can bring insights about a game dataset based on users questions, tool_calls = None)\n",
      " -> (role = user, content = What's the worst game?, tool_calls = None)\n",
      " -> (role = assistant, content = None, tool_calls = [ChatCompletionMessageToolCall(id='call_k28lcnTDh43aJfp2fqf2ud8e', function=Function(arguments='{\"num_games\":1,\"top\":false}', name='get_games'), type='function')])\n",
      " -> (role = tool, content = [{\"Game\": \"Pikmin 3\", \"Platform\": \"Wii U\", \"Score\": 85}], tool_calls = None)\n",
      " -> (role = assistant, content = The worst game, based on the lowest score, is \"Pikmin 3\" for the Wii U, with a score of 85., tool_calls = None)\n"
     ]
    }
   ],
   "source": [
    "# New session\n",
    "print(\"\\nNew session interaction:\")\n",
    "run3 = agent.invoke(\"What's the worst game?\", \"other_session\")\n",
    "\n",
    "print(\"\\nMessages from run 3:\")\n",
    "messages = run3.get_final_state()[\"messages\"]\n",
    "print_messages(messages)\n"
   ]
  },
  {
   "cell_type": "markdown",
   "id": "f160949c",
   "metadata": {},
   "source": [
    "## Check session histories"
   ]
  },
  {
   "cell_type": "code",
   "execution_count": 12,
   "id": "f6fdabe5",
   "metadata": {},
   "outputs": [
    {
     "name": "stdout",
     "output_type": "stream",
     "text": [
      "Games session runs:\n",
      "\n",
      "# Run 1 {'run_id': '08203247-b0ba-4dd5-b2fc-280d653d7ab3', 'start_timestamp': '2025-05-12 03:06:05.323496', 'end_timestamp': '2025-05-12 03:06:08.289115', 'snapshot_counts': 5}\n",
      "Messages:\n",
      " -> (role = system, content = You can bring insights about a game dataset based on users questions, tool_calls = None)\n",
      " -> (role = user, content = What's the best game in the dataset?, tool_calls = None)\n",
      " -> (role = assistant, content = None, tool_calls = [ChatCompletionMessageToolCall(id='call_SLomFYOi1ZA5YFwoO0zPBCoQ', function=Function(arguments='{\"num_games\":1,\"top\":true}', name='get_games'), type='function')])\n",
      " -> (role = tool, content = [{\"Game\": \"The Legend of Zelda: Breath of the Wild\", \"Platform\": \"Switch\", \"Score\": 98}], tool_calls = None)\n",
      " -> (role = assistant, content = The best game in the dataset is **The Legend of Zelda: Breath of the Wild**, available on the Switch, with a score of **98**., tool_calls = None)\n",
      "\n",
      "# Run 2 {'run_id': '09f29ee6-f883-4df1-a228-409a73305ed4', 'start_timestamp': '2025-05-12 03:06:08.299878', 'end_timestamp': '2025-05-12 03:06:09.321775', 'snapshot_counts': 3}\n",
      "Messages:\n",
      " -> (role = system, content = You can bring insights about a game dataset based on users questions, tool_calls = None)\n",
      " -> (role = user, content = What's the best game in the dataset?, tool_calls = None)\n",
      " -> (role = assistant, content = None, tool_calls = [ChatCompletionMessageToolCall(id='call_SLomFYOi1ZA5YFwoO0zPBCoQ', function=Function(arguments='{\"num_games\":1,\"top\":true}', name='get_games'), type='function')])\n",
      " -> (role = tool, content = [{\"Game\": \"The Legend of Zelda: Breath of the Wild\", \"Platform\": \"Switch\", \"Score\": 98}], tool_calls = None)\n",
      " -> (role = assistant, content = The best game in the dataset is **The Legend of Zelda: Breath of the Wild**, available on the Switch, with a score of **98**., tool_calls = None)\n",
      " -> (role = user, content = And what was its score?, tool_calls = None)\n",
      " -> (role = assistant, content = The score of **The Legend of Zelda: Breath of the Wild** is **98**., tool_calls = None)\n"
     ]
    }
   ],
   "source": [
    "print(\"Games session runs:\")\n",
    "runs = agent.get_session_runs(\"games\")\n",
    "for i, run_object in enumerate(runs, 1):\n",
    "    print(f\"\\n# Run {i}\", run_object.metadata)\n",
    "    print(\"Messages:\")\n",
    "    print_messages(run_object.get_final_state()[\"messages\"])"
   ]
  },
  {
   "cell_type": "code",
   "execution_count": 13,
   "id": "98dafe45",
   "metadata": {},
   "outputs": [
    {
     "name": "stdout",
     "output_type": "stream",
     "text": [
      "Games session snapshots:\n",
      "\n",
      "Run('08203247-b0ba-4dd5-b2fc-280d653d7ab3')\n",
      "-> Snapshot(e3a47265-bde3-4dd4-9583-8fe1487bc82c) @ [2025-05-12 03:06:05.323543]: __entry__.State({'user_query': \"What's the best game in the dataset?\", 'instructions': 'You can bring insights about a game dataset based on users questions', 'messages': [], 'current_tool_calls': None, 'session_id': 'games'})\n",
      "-> Snapshot(a3769f17-639f-44db-8aa6-5395bb57d6df) @ [2025-05-12 03:06:05.323624]: message_prep.State({'user_query': \"What's the best game in the dataset?\", 'instructions': 'You can bring insights about a game dataset based on users questions', 'messages': [SystemMessage(role='system', content='You can bring insights about a game dataset based on users questions'), UserMessage(role='user', content=\"What's the best game in the dataset?\")], 'current_tool_calls': None, 'session_id': 'games'})\n",
      "-> Snapshot(97769972-e1b9-4335-b88b-85a39c699c18) @ [2025-05-12 03:06:06.579710]: llm_processor.State({'user_query': \"What's the best game in the dataset?\", 'instructions': 'You can bring insights about a game dataset based on users questions', 'messages': [SystemMessage(role='system', content='You can bring insights about a game dataset based on users questions'), UserMessage(role='user', content=\"What's the best game in the dataset?\"), AIMessage(role='assistant', content=None, tool_calls=[ChatCompletionMessageToolCall(id='call_SLomFYOi1ZA5YFwoO0zPBCoQ', function=Function(arguments='{\"num_games\":1,\"top\":true}', name='get_games'), type='function')])], 'current_tool_calls': [ChatCompletionMessageToolCall(id='call_SLomFYOi1ZA5YFwoO0zPBCoQ', function=Function(arguments='{\"num_games\":1,\"top\":true}', name='get_games'), type='function')], 'session_id': 'games'})\n",
      "-> Snapshot(28ad5596-752a-4111-b088-29c2d36fc66f) @ [2025-05-12 03:06:06.579834]: tool_executor.State({'user_query': \"What's the best game in the dataset?\", 'instructions': 'You can bring insights about a game dataset based on users questions', 'messages': [SystemMessage(role='system', content='You can bring insights about a game dataset based on users questions'), UserMessage(role='user', content=\"What's the best game in the dataset?\"), AIMessage(role='assistant', content=None, tool_calls=[ChatCompletionMessageToolCall(id='call_SLomFYOi1ZA5YFwoO0zPBCoQ', function=Function(arguments='{\"num_games\":1,\"top\":true}', name='get_games'), type='function')]), ToolMessage(role='tool', content='[{\"Game\": \"The Legend of Zelda: Breath of the Wild\", \"Platform\": \"Switch\", \"Score\": 98}]', tool_call_id='call_SLomFYOi1ZA5YFwoO0zPBCoQ', name='get_games')], 'current_tool_calls': None, 'session_id': 'games'})\n",
      "-> Snapshot(151263ec-e52f-45e8-b521-d84eeb9b5ace) @ [2025-05-12 03:06:08.289051]: llm_processor.State({'user_query': \"What's the best game in the dataset?\", 'instructions': 'You can bring insights about a game dataset based on users questions', 'messages': [SystemMessage(role='system', content='You can bring insights about a game dataset based on users questions'), UserMessage(role='user', content=\"What's the best game in the dataset?\"), AIMessage(role='assistant', content=None, tool_calls=[ChatCompletionMessageToolCall(id='call_SLomFYOi1ZA5YFwoO0zPBCoQ', function=Function(arguments='{\"num_games\":1,\"top\":true}', name='get_games'), type='function')]), ToolMessage(role='tool', content='[{\"Game\": \"The Legend of Zelda: Breath of the Wild\", \"Platform\": \"Switch\", \"Score\": 98}]', tool_call_id='call_SLomFYOi1ZA5YFwoO0zPBCoQ', name='get_games'), AIMessage(role='assistant', content='The best game in the dataset is **The Legend of Zelda: Breath of the Wild**, available on the Switch, with a score of **98**.', tool_calls=None)], 'current_tool_calls': None, 'session_id': 'games'})\n",
      "\n",
      "\n",
      "Run('09f29ee6-f883-4df1-a228-409a73305ed4')\n",
      "-> Snapshot(c88e8ea9-e3c9-4a8d-b74f-b8fee3a298eb) @ [2025-05-12 03:06:08.300023]: __entry__.State({'user_query': 'And what was its score?', 'instructions': 'You can bring insights about a game dataset based on users questions', 'messages': [SystemMessage(role='system', content='You can bring insights about a game dataset based on users questions'), UserMessage(role='user', content=\"What's the best game in the dataset?\"), AIMessage(role='assistant', content=None, tool_calls=[ChatCompletionMessageToolCall(id='call_SLomFYOi1ZA5YFwoO0zPBCoQ', function=Function(arguments='{\"num_games\":1,\"top\":true}', name='get_games'), type='function')]), ToolMessage(role='tool', content='[{\"Game\": \"The Legend of Zelda: Breath of the Wild\", \"Platform\": \"Switch\", \"Score\": 98}]', tool_call_id='call_SLomFYOi1ZA5YFwoO0zPBCoQ', name='get_games'), AIMessage(role='assistant', content='The best game in the dataset is **The Legend of Zelda: Breath of the Wild**, available on the Switch, with a score of **98**.', tool_calls=None)], 'current_tool_calls': None, 'session_id': 'games'})\n",
      "-> Snapshot(0d56aa9c-1dbf-4b07-b2e6-cd49bdfe1435) @ [2025-05-12 03:06:08.300161]: message_prep.State({'user_query': 'And what was its score?', 'instructions': 'You can bring insights about a game dataset based on users questions', 'messages': [SystemMessage(role='system', content='You can bring insights about a game dataset based on users questions'), UserMessage(role='user', content=\"What's the best game in the dataset?\"), AIMessage(role='assistant', content=None, tool_calls=[ChatCompletionMessageToolCall(id='call_SLomFYOi1ZA5YFwoO0zPBCoQ', function=Function(arguments='{\"num_games\":1,\"top\":true}', name='get_games'), type='function')]), ToolMessage(role='tool', content='[{\"Game\": \"The Legend of Zelda: Breath of the Wild\", \"Platform\": \"Switch\", \"Score\": 98}]', tool_call_id='call_SLomFYOi1ZA5YFwoO0zPBCoQ', name='get_games'), AIMessage(role='assistant', content='The best game in the dataset is **The Legend of Zelda: Breath of the Wild**, available on the Switch, with a score of **98**.', tool_calls=None), UserMessage(role='user', content='And what was its score?')], 'current_tool_calls': None, 'session_id': 'games'})\n",
      "-> Snapshot(e749a6c4-f51e-4e71-8aa0-9d188abde6a1) @ [2025-05-12 03:06:09.321760]: llm_processor.State({'user_query': 'And what was its score?', 'instructions': 'You can bring insights about a game dataset based on users questions', 'messages': [SystemMessage(role='system', content='You can bring insights about a game dataset based on users questions'), UserMessage(role='user', content=\"What's the best game in the dataset?\"), AIMessage(role='assistant', content=None, tool_calls=[ChatCompletionMessageToolCall(id='call_SLomFYOi1ZA5YFwoO0zPBCoQ', function=Function(arguments='{\"num_games\":1,\"top\":true}', name='get_games'), type='function')]), ToolMessage(role='tool', content='[{\"Game\": \"The Legend of Zelda: Breath of the Wild\", \"Platform\": \"Switch\", \"Score\": 98}]', tool_call_id='call_SLomFYOi1ZA5YFwoO0zPBCoQ', name='get_games'), AIMessage(role='assistant', content='The best game in the dataset is **The Legend of Zelda: Breath of the Wild**, available on the Switch, with a score of **98**.', tool_calls=None), UserMessage(role='user', content='And what was its score?'), AIMessage(role='assistant', content='The score of **The Legend of Zelda: Breath of the Wild** is **98**.', tool_calls=None)], 'current_tool_calls': None, 'session_id': 'games'})\n",
      "\n",
      "\n"
     ]
    }
   ],
   "source": [
    "print(\"Games session snapshots:\\n\")\n",
    "\n",
    "runs = agent.get_session_runs(\"games\")\n",
    "for run_object in runs:\n",
    "    print(run_object)\n",
    "    for snp in run_object.snapshots:\n",
    "        print(f\"-> {snp}\")\n",
    "    print(\"\\n\")"
   ]
  },
  {
   "cell_type": "code",
   "execution_count": null,
   "id": "59054976",
   "metadata": {},
   "outputs": [],
   "source": []
  }
 ],
 "metadata": {
  "kernelspec": {
   "display_name": ".venv",
   "language": "python",
   "name": "python3"
  },
  "language_info": {
   "codemirror_mode": {
    "name": "ipython",
    "version": 3
   },
   "file_extension": ".py",
   "mimetype": "text/x-python",
   "name": "python",
   "nbconvert_exporter": "python",
   "pygments_lexer": "ipython3",
   "version": "3.11.10"
  }
 },
 "nbformat": 4,
 "nbformat_minor": 5
}
